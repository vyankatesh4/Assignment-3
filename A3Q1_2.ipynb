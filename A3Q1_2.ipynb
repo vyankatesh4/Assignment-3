{
 "cells": [
  {
   "cell_type": "code",
   "execution_count": 2,
   "id": "1d16e42b",
   "metadata": {},
   "outputs": [
    {
     "name": "stdout",
     "output_type": "stream",
     "text": [
      "20\n"
     ]
    }
   ],
   "source": [
    "sample_list = [8, 2, 3, 0, 7]\n",
    "def sum(sample_list):\n",
    "    total = 0\n",
    "    for i in sample_list:\n",
    "        total += i\n",
    "    return total\n",
    "print(sum(sample_list))"
   ]
  },
  {
   "cell_type": "code",
   "execution_count": null,
   "id": "b6249685",
   "metadata": {},
   "outputs": [],
   "source": []
  }
 ],
 "metadata": {
  "kernelspec": {
   "display_name": "Python 3 (ipykernel)",
   "language": "python",
   "name": "python3"
  },
  "language_info": {
   "codemirror_mode": {
    "name": "ipython",
    "version": 3
   },
   "file_extension": ".py",
   "mimetype": "text/x-python",
   "name": "python",
   "nbconvert_exporter": "python",
   "pygments_lexer": "ipython3",
   "version": "3.10.0"
  }
 },
 "nbformat": 4,
 "nbformat_minor": 5
}
