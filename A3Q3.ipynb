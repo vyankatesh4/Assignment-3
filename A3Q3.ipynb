{
 "cells": [
  {
   "cell_type": "code",
   "execution_count": 9,
   "id": "560f1080",
   "metadata": {},
   "outputs": [],
   "source": [
    "#Write a Python function that accepts a string and calculate the number of upper case letters and lower case letters.\n",
    "\n",
    "\n",
    "\n",
    "#﻿Sample String : 'The quick Brow Fox'\n"
   ]
  },
  {
   "cell_type": "code",
   "execution_count": 34,
   "id": "2a5345a9",
   "metadata": {},
   "outputs": [
    {
     "name": "stdout",
     "output_type": "stream",
     "text": [
      "No. of Upper case characters :  3\n",
      "No. of Lower case Characters :  12\n"
     ]
    }
   ],
   "source": [
    "def sam_str(x):\n",
    "    a={'UPPER_C':0,'LOWER_C':0}\n",
    "    for i in x:\n",
    "        if i.isupper():\n",
    "            a['UPPER_C']+=1\n",
    "        elif i.islower():\n",
    "            a[\"LOWER_C\"]+=1\n",
    "        else:\n",
    "            pass\n",
    "    print (\"No. of Upper case characters : \", a[\"UPPER_C\"])\n",
    "    print (\"No. of Lower case Characters : \", a[\"LOWER_C\"])\n",
    "sam_str('The quick Brow Fox')\n",
    "    "
   ]
  },
  {
   "cell_type": "code",
   "execution_count": null,
   "id": "b7e98aca",
   "metadata": {},
   "outputs": [],
   "source": []
  }
 ],
 "metadata": {
  "kernelspec": {
   "display_name": "Python 3 (ipykernel)",
   "language": "python",
   "name": "python3"
  },
  "language_info": {
   "codemirror_mode": {
    "name": "ipython",
    "version": 3
   },
   "file_extension": ".py",
   "mimetype": "text/x-python",
   "name": "python",
   "nbconvert_exporter": "python",
   "pygments_lexer": "ipython3",
   "version": "3.10.0"
  }
 },
 "nbformat": 4,
 "nbformat_minor": 5
}
